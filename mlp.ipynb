{
  "cells": [
    {
      "cell_type": "code",
      "execution_count": null,
      "source": [
        "import random\n",
        "import pandas as pd\n",
        "import matplotlib.pyplot as plt\n",
        "from collections import Counter\n",
        "from datetime import date, time, timedelta, datetime\n",
        "import numpy as np\n",
        "from sklearn.preprocessing import StandardScaler, MinMaxScaler\n",
        "from sklearn.metrics import r2_score\n",
        "from torch.utils.data import Dataset\n",
        "from scipy import stats\n",
        "import torch\n",
        "import torch.nn as nn\n",
        "import torch.optim as optim\n",
        "import torch.nn.functional as F\n",
        "from google.colab import drive\n",
        "import gc \n",
        "from statistics import mean, median, stdev\n",
        "import pickle\n",
        "drive.mount('/content/drive')"
      ],
      "outputs": [
        {
          "output_type": "stream",
          "name": "stdout",
          "text": [
            "Drive already mounted at /content/drive; to attempt to forcibly remount, call drive.mount(\"/content/drive\", force_remount=True).\n"
          ]
        }
      ],
      "metadata": {
        "id": "lJUJo3aKYd6z",
        "colab": {
          "base_uri": "https://localhost:8080/"
        },
        "outputId": "b0b0ae3a-d0cc-49f7-a578-7fa09d6713ef"
      }
    },
    {
      "cell_type": "code",
      "execution_count": null,
      "source": [
        "new_df = pd.read_csv(\"/content/drive/MyDrive/Colab Notebooks/final.zip\", index_col=0)"
      ],
      "outputs": [],
      "metadata": {
        "id": "mNjKn5K5dFX0"
      }
    },
    {
      "cell_type": "code",
      "execution_count": null,
      "source": [
        "new_df.drop(['public_date', 'start_price', 'end_price', 'TICKER', 'price_year_before', 'date_before_year', 'adate', 'qdate', 'permno', 'CUSIP'], axis=1).columns"
      ],
      "outputs": [
        {
          "output_type": "execute_result",
          "data": {
            "text/plain": [
              "Index(['CAPEI', 'bm', 'evm', 'pe_op_basic', 'pe_op_dil', 'pe_exi', 'pe_inc',\n",
              "       'ps', 'pcf', 'dpr', 'npm', 'opmbd', 'opmad', 'gpm', 'ptpm', 'cfm',\n",
              "       'roa', 'roe', 'roce', 'efftax', 'aftret_eq', 'aftret_invcapx',\n",
              "       'aftret_equity', 'pretret_noa', 'pretret_earnat', 'GProf',\n",
              "       'equity_invcap', 'debt_invcap', 'totdebt_invcap', 'capital_ratio',\n",
              "       'int_debt', 'int_totdebt', 'cash_lt', 'invt_act', 'rect_act', 'debt_at',\n",
              "       'debt_ebitda', 'short_debt', 'curr_debt', 'lt_debt', 'profit_lct',\n",
              "       'ocf_lct', 'cash_debt', 'fcf_ocf', 'lt_ppent', 'dltt_be', 'debt_assets',\n",
              "       'debt_capital', 'de_ratio', 'intcov', 'intcov_ratio', 'cash_ratio',\n",
              "       'quick_ratio', 'curr_ratio', 'cash_conversion', 'inv_turn', 'at_turn',\n",
              "       'rect_turn', 'pay_turn', 'sale_invcap', 'sale_equity', 'sale_nwc',\n",
              "       'rd_sale', 'adv_sale', 'staff_sale', 'accrual', 'ptb', 'PEG_trailing',\n",
              "       'divyield', 'PEG_1yrforward', 'PEG_ltgforward', 'cusip', 'growth',\n",
              "       'momentum'],\n",
              "      dtype='object')"
            ]
          },
          "metadata": {},
          "execution_count": 16
        }
      ],
      "metadata": {
        "colab": {
          "base_uri": "https://localhost:8080/"
        },
        "id": "_4wQt7MK72E0",
        "outputId": "f6f2ccc2-04cb-4589-e8a6-bf904707dd40"
      }
    },
    {
      "cell_type": "code",
      "execution_count": null,
      "source": [
        "print(wrong, corr)\n",
        "print(wrong+corr)"
      ],
      "outputs": [
        {
          "output_type": "stream",
          "name": "stdout",
          "text": [
            "0 0\n",
            "0\n"
          ]
        }
      ],
      "metadata": {
        "colab": {
          "base_uri": "https://localhost:8080/"
        },
        "id": "ED1oz2_L9LQE",
        "outputId": "3e24a8a1-ce33-406f-b840-546209e3fc0c"
      }
    },
    {
      "cell_type": "code",
      "execution_count": null,
      "source": [
        "\n",
        "# For mlp\n",
        "class CompanyDatasetMLP(Dataset):\n",
        "    \"\"\"\n",
        "    Custom torch dataset class for the annotated images\n",
        "\n",
        "    \"\"\"\n",
        "    def __init__(self, df, evaluate=False):\n",
        "        self.evaluate = evaluate\n",
        "        self.features, self.growth = self.standardize(df)\n",
        "\n",
        "    \n",
        "    def standardize(self, df):\n",
        "        if not self.evaluate:\n",
        "          df_tmp = df.drop(['public_date', 'start_price', 'end_price', 'TICKER', 'price_year_before', 'date_before_year', 'adate', 'qdate', 'permno', 'CUSIP', 'cusip'], axis=1)\n",
        "\n",
        "          growth = list(1+df_tmp['growth'])\n",
        "          df_tmp = df_tmp.drop(['growth'], axis=1)\n",
        "          scaler = StandardScaler()\n",
        "          df_tmp = scaler.fit_transform(df_tmp)\n",
        "\n",
        "          assert len(df_tmp) == len(growth)\n",
        "\n",
        "          return df_tmp, growth\n",
        "        else:\n",
        "          df_tmp = df.drop(['public_date', 'start_price', 'end_price', 'TICKER', 'price_year_before', 'date_before_year', 'adate', 'qdate', 'permno', 'CUSIP', 'cusip'], axis=1)\n",
        "          prices = df[['start_price', 'end_price']]\n",
        "\n",
        "          growth = list(1+df_tmp['growth'])\n",
        "          df_tmp = df_tmp.drop(['growth'], axis=1)\n",
        "          scaler = StandardScaler()\n",
        "          df_tmp = scaler.fit_transform(df_tmp)\n",
        "\n",
        "          assert len(df_tmp) == len(growth)\n",
        "\n",
        "          return (df_tmp, prices), growth\n",
        "      \n",
        "    def __len__(self):\n",
        "        return len(self.features)\n",
        "\n",
        "    def __getitem__(self, idx):\n",
        "        if not self.evaluate:\n",
        "          features = self.features[idx]\n",
        "          growth = self.growth[idx]\n",
        "          return features, growth\n",
        "        else:\n",
        "          features = self.features[0][idx]\n",
        "          prices = self.features[1].iloc[idx]\n",
        "          growth = self.growth[idx]\n",
        "          return features, growth, prices\n",
        "\n"
      ],
      "outputs": [],
      "metadata": {
        "id": "RSxx0WeqYzBn"
      }
    },
    {
      "cell_type": "code",
      "execution_count": null,
      "source": [
        "class Net(nn.Module):\n",
        "    def __init__(self):\n",
        "        super(Net, self).__init__()\n",
        "        self.fc1 = nn.Linear(72, 32)\n",
        "        self.fc2 = nn.Linear(32, 16)\n",
        "        self.fc3 = nn.Linear(16, 1)\n",
        "        \n",
        "        self.relu = nn.ReLU()\n",
        "        self.tanh = nn.Tanh()\n",
        "        \n",
        "        self.dropout = nn.Dropout(p=0.2)\n",
        "        self.bn1 = nn.BatchNorm1d(64)\n",
        "        self.bn2 = nn.BatchNorm1d(32)\n",
        "\n",
        "    def forward(self, x):\n",
        "        \"\"\"\n",
        "        Args:\n",
        "          user_ids of shape (batch_size): User ids (starting from 1).\n",
        "          item_ids of shape (batch_size): Item ids (starting from 1).\n",
        "        \n",
        "        Returns:\n",
        "          outputs of shape (batch_size): Predictions of ratings.\n",
        "        \"\"\"\n",
        "        \n",
        "        x = self.relu(self.fc1(x))\n",
        "        x = self.dropout(x)\n",
        "        x = self.relu(self.fc2(x))\n",
        "        x = self.dropout(x)\n",
        "        x = self.fc3(x)\n",
        "        return x[:, 0]"
      ],
      "outputs": [],
      "metadata": {
        "id": "fR5Tg06KY2D_"
      }
    },
    {
      "cell_type": "code",
      "execution_count": null,
      "source": [
        "from torch.utils.data import DataLoader\n",
        "\n",
        "batch_size = 64\n",
        "df = new_df.sort_values('public_date', ascending=False)\n",
        "\n",
        "n_test = int(0.1 * len(df))\n",
        "n_val = n_test\n",
        "n_train = len(df) - (n_test+n_val)\n",
        "\n",
        "print(f\"Train size: {n_train}, test size: {n_test}, val size: {n_val}\")\n",
        "assert len(df) == (n_test + n_val + n_train)\n",
        "assert df.iloc[0]['public_date'] >= df.iloc[1]['public_date']\n",
        "assert df.iloc[0]['public_date'] > df.iloc[-1]['public_date']\n",
        "\n",
        "\n",
        "train_df = df.tail(n_train)\n",
        "test_val_df = df.head(n_test+n_val)\n",
        "val_df = test_val_df.tail(n_val)\n",
        "test_df = test_val_df.head(n_test)\n",
        "print(train_df.iloc[0], val_df.iloc[-1], test_df.iloc[-1])\n",
        "assert train_df.iloc[0]['public_date'] <= val_df.iloc[-1]['public_date']\n",
        "\n",
        "ds_train = CompanyDatasetMLP(train_df)\n",
        "ds_val = CompanyDatasetMLP(val_df)\n",
        "ds_test = CompanyDatasetMLP(test_df)\n",
        "ds_test_eval = CompanyDatasetMLP(test_df, True)\n",
        "\n",
        "dl_train = DataLoader(ds_train, batch_size=batch_size, drop_last=True, shuffle=True)\n",
        "dl_val = DataLoader(ds_val, batch_size=batch_size, drop_last=True, shuffle=True)\n"
      ],
      "outputs": [
        {
          "output_type": "stream",
          "name": "stdout",
          "text": [
            "Train size: 651793, test size: 81473, val size: 81473\n",
            "permno                    35991\n",
            "adate                20141231.0\n",
            "qdate                  20150930\n",
            "public_date          2015-12-31\n",
            "CAPEI                     18.75\n",
            "                        ...    \n",
            "end_price                 76.81\n",
            "CUSIP                  77513310\n",
            "price_year_before         81.44\n",
            "growth                 0.489432\n",
            "momentum              -0.366773\n",
            "Name: 210317, Length: 84, dtype: object permno                    91615\n",
            "adate                20141231.0\n",
            "qdate                  20150930\n",
            "public_date          2015-12-31\n",
            "CAPEI                    -1.668\n",
            "                        ...    \n",
            "end_price                  0.35\n",
            "CUSIP                  98585K86\n",
            "price_year_before        0.4116\n",
            "growth                -0.772727\n",
            "momentum               2.741497\n",
            "Name: 1051319, Length: 84, dtype: object permno                    16465\n",
            "adate                20171231.0\n",
            "qdate                  20180331\n",
            "public_date          2018-06-29\n",
            "CAPEI                   -367.01\n",
            "                        ...    \n",
            "end_price                   7.6\n",
            "CUSIP                  74275G10\n",
            "price_year_before         10.03\n",
            "growth                 -0.27619\n",
            "momentum               0.046859\n",
            "Name: 530595, Length: 84, dtype: object\n"
          ]
        }
      ],
      "metadata": {
        "colab": {
          "base_uri": "https://localhost:8080/"
        },
        "id": "B2CTI6R2Y5zO",
        "outputId": "308f8698-db1a-47a6-ba76-ef79578c2670"
      }
    },
    {
      "cell_type": "code",
      "execution_count": null,
      "source": [
        "def print_progress(epoch, train_error, val_error):\n",
        "    print('Epoch {}: Train error: {:.4f}, Test error: {:.4f}'.format(\n",
        "        epoch, train_error, val_error))\n",
        "def compute_loss(mlp, dl):\n",
        "    mlp.eval()\n",
        "    tot_loss = 0\n",
        "    with torch.no_grad():\n",
        "        for batch in dl:\n",
        "            x, y = batch\n",
        "            x, y = x.to(device), y.to(device)\n",
        "            outputs = mlp.forward(x.float())\n",
        "            tot_loss += F.mse_loss(outputs, y)\n",
        "            #tot_loss += F.l1_loss(outputs, y)\n",
        "        return (tot_loss)/len(dl)"
      ],
      "outputs": [],
      "metadata": {
        "id": "wxVKMR3RY7H6"
      }
    },
    {
      "cell_type": "code",
      "execution_count": null,
      "source": [
        "model = Net()\n",
        "device = torch.device('cuda:0' if torch.cuda.is_available() else 'cpu')\n",
        "model.to(device)\n",
        "device\n",
        "# Implement the training loop in this cell\n",
        "if True:\n",
        "    n_epochs = 15\n",
        "    train_errors = []  # Keep track of the training data\n",
        "    val_errors = []  # Keep track of the validation data\n",
        "    \n",
        "    #optimizer = torch.optim.Adam(model.parameters(), lr=0.0001, weight_decay=0.0001)\n",
        "    optimizer = torch.optim.Adam(model.parameters(), lr=0.001, eps=1e-9)\n",
        "    #optimizer = torch.optim.Adam(model.parameters(), lr=0.0001)\n",
        "    scheduler = optim.lr_scheduler.StepLR(optimizer, step_size=5, gamma=0.1)\n",
        "\n",
        "    running_loss = 0\n",
        "    for epoch in range(n_epochs):\n",
        "        model.train()\n",
        "        for idx, batch in enumerate(dl_train):\n",
        "            features, growths = batch\n",
        "            features, growths = features.to(device), growths.to(device)\n",
        "            optimizer.zero_grad()\n",
        "            outputs = model.forward(features.float())\n",
        "            #loss = F.l1_loss(outputs, growths.float())\n",
        "            loss = F.mse_loss(outputs, growths.float())\n",
        "            loss.backward()\n",
        "\n",
        "            optimizer.step()\n",
        "            running_loss += loss\n",
        "            if idx % 2000 == 0:\n",
        "                print(f\"Epoch {epoch}, {int(idx/len(dl_train)*100)}%\")\n",
        "        #if (epoch+1) % 500 == 0:\n",
        "        train_errors.append(running_loss/len(dl_train))\n",
        "        val_errors.append(compute_loss(model, dl_val))\n",
        "        print_progress(epoch, train_errors[-1], val_errors[-1])\n",
        "        running_loss = 0\n",
        "        scheduler.step()\n",
        "            \n",
        "    plt.plot(torch.stack(train_errors).cpu().detach())\n",
        "    plt.plot(torch.stack(val_errors).cpu().detach())\n",
        "    plt.show()\n",
        "    "
      ],
      "outputs": [
        {
          "output_type": "stream",
          "name": "stdout",
          "text": [
            "Epoch 0, 0%\n",
            "Epoch 0, 19%\n",
            "Epoch 0, 39%\n",
            "Epoch 0, 58%\n",
            "Epoch 0, 78%\n",
            "Epoch 0, 98%\n",
            "Epoch 0: Train error: 2.0360, Test error: 5.6032\n",
            "R2 score of the model: 0.03988367319107056\n",
            "Epoch 1, 0%\n",
            "Epoch 1, 19%\n",
            "Epoch 1, 39%\n",
            "Epoch 1, 58%\n",
            "Epoch 1, 78%\n",
            "Epoch 1, 98%\n",
            "Epoch 1: Train error: 2.6610, Test error: 5.5976\n",
            "R2 score of the model: 0.03239107131958008\n",
            "Epoch 2, 0%\n",
            "Epoch 2, 19%\n",
            "Epoch 2, 39%\n",
            "Epoch 2, 58%\n",
            "Epoch 2, 78%\n",
            "Epoch 2, 98%\n",
            "Epoch 2: Train error: 1.8758, Test error: 5.5430\n",
            "R2 score of the model: 0.044293761253356934\n",
            "Epoch 3, 0%\n",
            "Epoch 3, 19%\n",
            "Epoch 3, 39%\n",
            "Epoch 3, 58%\n",
            "Epoch 3, 78%\n",
            "Epoch 3, 98%\n",
            "Epoch 3: Train error: 1.8452, Test error: 5.5814\n",
            "R2 score of the model: 0.039466798305511475\n",
            "Epoch 4, 0%\n",
            "Epoch 4, 19%\n",
            "Epoch 4, 39%\n",
            "Epoch 4, 58%\n",
            "Epoch 4, 78%\n",
            "Epoch 4, 98%\n",
            "Epoch 4: Train error: 1.8243, Test error: 5.7026\n",
            "R2 score of the model: 0.0259549617767334\n",
            "Epoch 5, 0%\n",
            "Epoch 5, 19%\n",
            "Epoch 5, 39%\n",
            "Epoch 5, 58%\n",
            "Epoch 5, 78%\n",
            "Epoch 5, 98%\n",
            "Epoch 5: Train error: 1.9361, Test error: 5.6048\n",
            "R2 score of the model: 0.03394579887390137\n",
            "Epoch 6, 0%\n",
            "Epoch 6, 19%\n",
            "Epoch 6, 39%\n",
            "Epoch 6, 58%\n",
            "Epoch 6, 78%\n",
            "Epoch 6, 98%\n",
            "Epoch 6: Train error: 1.8487, Test error: 5.5583\n",
            "R2 score of the model: 0.037270188331604004\n",
            "Epoch 7, 0%\n",
            "Epoch 7, 19%\n",
            "Epoch 7, 39%\n",
            "Epoch 7, 58%\n",
            "Epoch 7, 78%\n",
            "Epoch 7, 98%\n",
            "Epoch 7: Train error: 1.8111, Test error: 5.5817\n",
            "R2 score of the model: 0.0326230525970459\n",
            "Epoch 8, 0%\n",
            "Epoch 8, 19%\n",
            "Epoch 8, 39%\n",
            "Epoch 8, 58%\n",
            "Epoch 8, 78%\n",
            "Epoch 8, 98%\n",
            "Epoch 8: Train error: 1.8287, Test error: 5.5607\n",
            "R2 score of the model: 0.035831332206726074\n",
            "Epoch 9, 0%\n",
            "Epoch 9, 19%\n",
            "Epoch 9, 39%\n",
            "Epoch 9, 58%\n",
            "Epoch 9, 78%\n",
            "Epoch 9, 98%\n",
            "Epoch 9: Train error: 1.7880, Test error: 5.5481\n",
            "R2 score of the model: 0.03826993703842163\n",
            "Epoch 10, 0%\n",
            "Epoch 10, 19%\n",
            "Epoch 10, 39%\n",
            "Epoch 10, 58%\n",
            "Epoch 10, 78%\n",
            "Epoch 10, 98%\n",
            "Epoch 10: Train error: 1.7959, Test error: 5.5489\n",
            "R2 score of the model: 0.0382997989654541\n",
            "Epoch 11, 0%\n",
            "Epoch 11, 19%\n",
            "Epoch 11, 39%\n",
            "Epoch 11, 58%\n",
            "Epoch 11, 78%\n",
            "Epoch 11, 98%\n",
            "Epoch 11: Train error: 1.7879, Test error: 5.5500\n",
            "R2 score of the model: 0.0379483699798584\n",
            "Epoch 12, 0%\n",
            "Epoch 12, 19%\n",
            "Epoch 12, 39%\n",
            "Epoch 12, 58%\n",
            "Epoch 12, 78%\n",
            "Epoch 12, 98%\n",
            "Epoch 12: Train error: 1.8373, Test error: 5.5492\n",
            "R2 score of the model: 0.03820997476577759\n",
            "Epoch 13, 0%\n",
            "Epoch 13, 19%\n",
            "Epoch 13, 39%\n",
            "Epoch 13, 58%\n",
            "Epoch 13, 78%\n",
            "Epoch 13, 98%\n",
            "Epoch 13: Train error: 1.8320, Test error: 5.5465\n",
            "R2 score of the model: 0.03857624530792236\n",
            "Epoch 14, 0%\n",
            "Epoch 14, 19%\n",
            "Epoch 14, 39%\n",
            "Epoch 14, 58%\n",
            "Epoch 14, 78%\n",
            "Epoch 14, 98%\n",
            "Epoch 14: Train error: 1.7944, Test error: 5.5432\n",
            "R2 score of the model: 0.03919738531112671\n"
          ]
        },
        {
          "output_type": "display_data",
          "data": {
            "image/png": "[encoded data removed]",
            "text/plain": [
              "<Figure size 432x288 with 1 Axes>"
            ]
          },
          "metadata": {
            "needs_background": "light"
          }
        }
      ],
      "metadata": {
        "colab": {
          "base_uri": "https://localhost:8080/",
          "height": 1000
        },
        "id": "3nIdFsdLY-A8",
        "outputId": "da0b4b14-b971-4145-d9f6-08e3f6234ada"
      }
    },
    {
      "cell_type": "code",
      "execution_count": null,
      "source": [
        "with open(\"/content/drive/MyDrive/Colab Notebooks/permnos\", \"rb\") as fp:   # Unpickling\n",
        "    permnos = pickle.load(fp)\n",
        "test_df = test_df[test_df['permno'].isin(permnos)]\n",
        "print(len(test_df))\n",
        "ds_test_eval = CompanyDatasetMLP(test_df, True)\n",
        "\n",
        "with torch.no_grad():\n",
        "      features, tgt = torch.Tensor(ds_test_eval[:][0]).to(device), torch.Tensor(ds_test_eval[:][1]).to(device)\n",
        "      prices = ds_test_eval[:][2]\n",
        "      preds = model.forward(features.float())\n",
        "      tgt_prices = prices['end_price']\n",
        "      tgt_ish = prices['start_price'] * ((tgt).tolist())\n",
        "      pred_prices = prices['start_price'] * (preds).tolist()\n",
        "      r2 = r_squared(pd.Series(preds.cpu()), pd.Series(tgt.cpu()), 1.09783173099033)\n",
        "      print(f\"R2 score of the model: {r2}\")"
      ],
      "outputs": [
        {
          "output_type": "stream",
          "name": "stdout",
          "text": [
            "69065\n",
            "R2 score of the model: 0.037831127643585205\n"
          ]
        }
      ],
      "metadata": {
        "colab": {
          "base_uri": "https://localhost:8080/"
        },
        "id": "kgMZc8E3hxa7",
        "outputId": "3db1bf54-4f4c-4943-9edf-ff0d2adaeeed"
      }
    },
    {
      "cell_type": "code",
      "execution_count": null,
      "source": [
        "print(pd.Series(tgt.cpu()).describe())\n",
        "print(pd.Series(preds.cpu()).describe())\n",
        "tgt_prices = prices['end_price']\n",
        "tgt_ish = prices['start_price'] * ((tgt).tolist())\n",
        "pred_prices = prices['start_price'] * (preds).tolist()\n",
        "\n",
        "accuracy_level = pd.Series((1 - abs(((tgt)/(preds))-1)).tolist())\n",
        "test = accuracy_level.sort_values()\n",
        "print(accuracy_level.describe())\n",
        "print(accuracy_level.median())\n"
      ],
      "outputs": [
        {
          "output_type": "stream",
          "name": "stdout",
          "text": [
            "count    69065.000000\n",
            "mean         1.452936\n",
            "std          2.688344\n",
            "min          0.013879\n",
            "25%          0.794248\n",
            "50%          1.077978\n",
            "75%          1.478298\n",
            "max        209.708267\n",
            "dtype: float64\n",
            "count    69065.000000\n",
            "mean         1.213162\n",
            "std          0.546183\n",
            "min         -1.123731\n",
            "25%          1.040222\n",
            "50%          1.112596\n",
            "75%          1.268174\n",
            "max         56.719357\n",
            "dtype: float64\n",
            "count    69065.000000\n",
            "mean         0.443937\n",
            "std          1.675162\n",
            "min       -158.621597\n",
            "25%          0.439709\n",
            "50%          0.683164\n",
            "75%          0.851838\n",
            "max          0.999980\n",
            "dtype: float64\n",
            "0.6831640005111694\n"
          ]
        }
      ],
      "metadata": {
        "colab": {
          "base_uri": "https://localhost:8080/"
        },
        "id": "BCrfL-HjSKA9",
        "outputId": "46210b20-3746-477f-dd4c-af22cd9d531e"
      }
    }
  ],
  "metadata": {
    "accelerator": "GPU",
    "colab": {
      "collapsed_sections": [],
      "name": "Untitled",
      "provenance": []
    },
    "kernelspec": {
      "display_name": "Python 3",
      "name": "python3"
    }
  },
  "nbformat": 4,
  "nbformat_minor": 2
}