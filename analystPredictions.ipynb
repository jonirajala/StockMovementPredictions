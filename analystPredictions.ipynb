{
 "cells": [
  {
   "cell_type": "code",
   "execution_count": 1,
   "source": [
    "import pandas as pd\n",
    "import matplotlib.pyplot as plt\n",
    "from collections import Counter\n",
    "from datetime import date, time, timedelta\n",
    "import numpy as np\n",
    "from sklearn.preprocessing import StandardScaler, MinMaxScaler\n",
    "import ignite\n",
    "from sklearn.metrics import r2_score\n",
    "import seaborn as sn\n",
    "import torch\n",
    "import torch.nn as nn\n",
    "import torch.optim as optim\n",
    "import torch.nn.functional as F\n"
   ],
   "outputs": [],
   "metadata": {}
  },
  {
   "cell_type": "code",
   "execution_count": 12,
   "source": [
    "analysts = \"../data/analysts.csv\"\n",
    "df_an = pd.read_csv(analysts)\n",
    "df_an['STATPERS'] = pd.to_datetime(df_an['STATPERS'], format='%Y%m%d')\n",
    "df_an['STATPERS'] = df_an['STATPERS'].apply(handle_weekends)\n",
    "df_an['TGTDATE'] = df_an['STATPERS'].apply(add_year)\n",
    "\n",
    "data_start_price = price_df.rename(columns={'PRC': 'start_price'})\n",
    "data_end_price = price_df.rename(columns={'PRC': 'end_price'})\n",
    "\n",
    "df_an = pd.merge(df_an, data_start_price, how='left', left_on=['STATPERS', 'CUSIP'], right_on=['date', 'CUSIP'])\n",
    "df_an = pd.merge(df_an, data_end_price, how='left', left_on=['TGTDATE', 'CUSIP'], right_on=['date', 'CUSIP'])\n",
    "df_an = df_an.drop(['PERMNO_x', 'date_x', 'COMNAM_x','PERMNO_y', 'date_y', 'COMNAM_y'], axis=1).fillna(0)\n",
    "\n"
   ],
   "outputs": [],
   "metadata": {}
  },
  {
   "cell_type": "code",
   "execution_count": null,
   "source": [
    "df_an = df_an.drop(df_an[df_an['start_price'] <= 0].index)\n",
    "df_an = df_an.drop(df_an[df_an['end_price'] <= 0].index)\n",
    "df_an = df_an.drop(df_an[df_an['MEANPTG'] == 0].index)\n",
    "df_an = df_an[df_an['CUSIP'].isin(companies)]\n",
    "df_an = df_an[df_an['STATPERS'] <= '2020-11-30']\n",
    "df_an = df_an[df_an['STATPERS'] >= '2018-06-29']\n",
    "df_true = df_an.drop(['CUSIP', 'OFTIC', 'CNAME', 'STATPERS', 'NUMEST', 'STDEV', 'TGTDATE'], axis=1)\n"
   ],
   "outputs": [],
   "metadata": {}
  },
  {
   "cell_type": "code",
   "execution_count": 20,
   "source": [
    "df_true['TrueGrowth'] = (((df_true['end_price']-df_true['start_price']) / df_true['start_price']))\n",
    "df_true['PredGrowth'] = (((df_true['MEANPTG']-df_true['start_price']) / df_true['start_price']))"
   ],
   "outputs": [],
   "metadata": {}
  },
  {
   "cell_type": "code",
   "execution_count": 35,
   "source": [
    "r2 = r2_score(df_true['TrueGrowth'], df_true['PredGrowth'])\n",
    "print(f\"AND THE ANALYSTS' SICK R2 IS: {r2}\")\n"
   ],
   "outputs": [
    {
     "output_type": "stream",
     "name": "stdout",
     "text": [
      "AND THE ANALYSTS' SICK R2 IS: -0.04165983672854545\n",
      "AND THE ANALYSTS' SICK R2 IS: -16.69115780855374\n",
      "AND THE ANALYSTS' SICK R2 IS: 0.873637814754343\n",
      "AND THE ANALYSTS' SICK R2 IS: 0.8247327049585713\n"
     ]
    }
   ],
   "metadata": {
    "scrolled": true
   }
  },
  {
   "cell_type": "code",
   "execution_count": 387,
   "source": [
    "accuracy_level = 1 - abs((df['TrueGrowth']/df['PredGrowth'])-1)\n",
    "print(accuracy_level.describe())\n",
    "print(accuracy_level.median())\n"
   ],
   "outputs": [
    {
     "output_type": "stream",
     "name": "stdout",
     "text": [
      "count    74667.000000\n",
      "mean         0.529265\n",
      "std          0.950643\n",
      "min        -73.360000\n",
      "25%          0.413281\n",
      "50%          0.672280\n",
      "75%          0.848753\n",
      "max          1.000000\n",
      "dtype: float64\n",
      "0.6722803668223503\n"
     ]
    }
   ],
   "metadata": {}
  }
 ],
 "metadata": {
  "kernelspec": {
   "display_name": "Python 3",
   "language": "python",
   "name": "python3"
  },
  "language_info": {
   "codemirror_mode": {
    "name": "ipython",
    "version": 3
   },
   "file_extension": ".py",
   "mimetype": "text/x-python",
   "name": "python",
   "nbconvert_exporter": "python",
   "pygments_lexer": "ipython3",
   "version": "3.8.1"
  }
 },
 "nbformat": 4,
 "nbformat_minor": 5
}