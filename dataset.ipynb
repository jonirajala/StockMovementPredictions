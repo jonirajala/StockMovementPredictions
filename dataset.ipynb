{
 "cells": [
  {
   "cell_type": "code",
   "execution_count": 1,
   "source": [
    "import pandas as pd\n",
    "import matplotlib.pyplot as plt\n",
    "from collections import Counter\n",
    "from datetime import date, time, timedelta\n",
    "import numpy as np\n",
    "from sklearn.preprocessing import StandardScaler, MinMaxScaler\n",
    "import ignite\n",
    "from sklearn.metrics import r2_score\n",
    "import seaborn as sn\n",
    "import torch\n",
    "import torch.nn as nn\n",
    "import torch.optim as optim\n",
    "import torch.nn.functional as F"
   ],
   "outputs": [],
   "metadata": {}
  },
  {
   "cell_type": "code",
   "execution_count": 2,
   "source": [
    "# Helper functions for manipulating dates\n",
    "def handle_weekends(date):\n",
    "    # Makes sure day is not weekend since weekends doesnt contain stock prices\n",
    "    if date.weekday() == 5:\n",
    "        return date -  timedelta(days=1)\n",
    "    elif date.weekday() == 6:\n",
    "        return date + timedelta(days=1)\n",
    "    else:\n",
    "        return date\n",
    "\n",
    "def add_year(date):\n",
    "    date = date + timedelta(days=365)\n",
    "    return handle_weekends(date)    \n",
    "    \n",
    "def sub_year(date):\n",
    "    date = date - timedelta(days=365)\n",
    "    return handle_weekends(date)    \n",
    "    \n",
    "PRICE_FILE = \"../data/prices3.csv\"\n",
    "price_df = pd.read_csv(PRICE_FILE)\n",
    "price_df['date'] = pd.to_datetime(price_df['date'], format='%Y%m%d')\n",
    "\n",
    "FILE_NAME1 = \"../data/sample_company_data3.csv\"\n",
    "df1 = pd.read_csv(FILE_NAME1)\n",
    "\n",
    "df1['public_date'] = pd.to_datetime(df1['public_date'], format='%Y%m%d')\n",
    "df1['date_after_year'] = df1['public_date'].apply(add_year)\n",
    "df1['date_before_year'] = df1['public_date'].apply(sub_year)\n",
    "\n",
    "df1['public_date'] = df1['public_date'].apply(handle_weekends)\n",
    "\n",
    "data_start_price = price_df.rename(columns={'PRC': 'start_price'})\n",
    "data_end_price = price_df.rename(columns={'PRC': 'end_price'})\n",
    "data_momentum = price_df.rename(columns={'PRC': 'price_year_before'})\n",
    "    \n",
    "# Merge the prices with the financial ratios to make the final dataset\n",
    "new_df = pd.merge(df1, data_start_price, how='left', left_on=['public_date', 'permno'], right_on=['date', 'PERMNO'])\n",
    "new_df = pd.merge(new_df, data_end_price, how='left', left_on=['date_after_year', 'permno'], right_on=['date', 'PERMNO'])\n",
    "new_df = pd.merge(new_df, data_momentum, how='left', left_on=['date_before_year', 'permno'], right_on=['date', 'PERMNO'])\n",
    "\n",
    "new_df = new_df.drop(['gvkey', 'date_after_year', 'PERMNO_x', 'date_x', 'COMNAM_x', 'CUSIP_x','PERMNO_y', 'date_y', 'COMNAM_y', 'CUSIP_y', 'PERMNO', 'date', 'COMNAM'], axis=1).fillna(0)\n"
   ],
   "outputs": [],
   "metadata": {}
  },
  {
   "cell_type": "code",
   "execution_count": 4,
   "source": [
    "new_df = new_df[new_df.start_price != 0]\n",
    "new_df = new_df[new_df.price_year_before != 0]\n",
    "new_df = new_df[new_df.end_price != 0]\n",
    "\n",
    "new_df['start_price'] = new_df['start_price'].abs()\n",
    "new_df['price_year_before'] = new_df['price_year_before'].abs()\n",
    "new_df['end_price'] = new_df['end_price'].abs()\n",
    "\n",
    "\n",
    "new_df['growth'] = (((new_df['end_price']-new_df['start_price']) / new_df['start_price']))\n",
    "new_df['divyield'] = new_df['divyield'].str.rstrip('%').astype('float').fillna(0)\n",
    "new_df['momentum'] = (((new_df['start_price']-new_df['price_year_before']) / new_df['price_year_before']))\n"
   ],
   "outputs": [],
   "metadata": {}
  },
  {
   "cell_type": "code",
   "execution_count": 5,
   "source": [
    "new_df = new_df.sort_values(by=['public_date']).fillna(0)"
   ],
   "outputs": [],
   "metadata": {
    "scrolled": true
   }
  },
  {
   "cell_type": "code",
   "execution_count": 11,
   "source": [
    "new_df.to_csv(\"financialratios.zip\", compression='zip')"
   ],
   "outputs": [],
   "metadata": {}
  }
 ],
 "metadata": {
  "kernelspec": {
   "display_name": "Python 3",
   "language": "python",
   "name": "python3"
  },
  "language_info": {
   "codemirror_mode": {
    "name": "ipython",
    "version": 3
   },
   "file_extension": ".py",
   "mimetype": "text/x-python",
   "name": "python",
   "nbconvert_exporter": "python",
   "pygments_lexer": "ipython3",
   "version": "3.8.1"
  }
 },
 "nbformat": 4,
 "nbformat_minor": 5
}